{
 "cells": [
  {
   "cell_type": "code",
   "execution_count": null,
   "metadata": {},
   "outputs": [],
   "source": [
    "import pandas as pd\n",
    "from src.constants import classes_label_map"
   ]
  },
  {
   "attachments": {},
   "cell_type": "markdown",
   "metadata": {},
   "source": [
    "## Labels"
   ]
  },
  {
   "cell_type": "code",
   "execution_count": null,
   "metadata": {},
   "outputs": [],
   "source": [
    "df = pd.DataFrame(list(classes_label_map.items()), columns=['Breed', 'Label'])\n",
    "df"
   ]
  },
  {
   "attachments": {},
   "cell_type": "markdown",
   "metadata": {},
   "source": [
    "## Usage"
   ]
  },
  {
   "cell_type": "code",
   "execution_count": null,
   "metadata": {},
   "outputs": [],
   "source": [
    "root = \"data/oxford-iiit-pet\"\n",
    "split = \"train\"  # [\"train\",\"val\",\"test\"]\n",
    "train_dataset = OxfordPetCustom(root, split)"
   ]
  },
  {
   "cell_type": "code",
   "execution_count": null,
   "metadata": {},
   "outputs": [],
   "source": [
    "from src.dataset import OxfordPetCustom\n",
    "from torch.utils.data import DataLoader\n",
    "from src.utils import visualize_batch\n",
    "\n",
    "batch_size = 32\n",
    "root = \"data/oxford-iiit-pet\"\n",
    "split = \"train\"  # [\"train\",\"val\",\"test\"]\n",
    "\n",
    "train_dataset = OxfordPetCustom(root, split)\n",
    "train_loader = DataLoader(\n",
    "    train_dataset, batch_size=batch_size, shuffle=True\n",
    ")\n",
    "\n",
    "for batch in enumerate(train_loader):\n",
    "    visualize_batch(batch)\n",
    "    break"
   ]
  },
  {
   "cell_type": "markdown",
   "metadata": {},
   "source": [
    "# Validate"
   ]
  },
  {
   "cell_type": "code",
   "execution_count": null,
   "metadata": {},
   "outputs": [],
   "source": [
    "from src.dataset import OxfordPetCustom\n",
    "from torch.utils.data import DataLoader\n",
    "from tqdm.auto import tqdm\n",
    "import torch\n",
    "from src.constants import img_wh\n",
    "\n",
    "root = \"data/oxford-iiit-pet\"\n",
    "batch_size = 32\n",
    "for split in [\"train\", \"val\", \"test\"]:\n",
    "    ds = OxfordPetCustom(root, split)\n",
    "    dl = DataLoader(ds, batch_size=batch_size)\n",
    "    for batch in tqdm(dl, desc=split):\n",
    "        assert batch[0].shape[1:] == torch.Size([3, *img_wh[::-1]])"
   ]
  },
  {
   "cell_type": "code",
   "execution_count": null,
   "metadata": {},
   "outputs": [],
   "source": []
  }
 ],
 "metadata": {
  "kernelspec": {
   "display_name": "wm",
   "language": "python",
   "name": "python3"
  },
  "language_info": {
   "codemirror_mode": {
    "name": "ipython",
    "version": 3
   },
   "file_extension": ".py",
   "mimetype": "text/x-python",
   "name": "python",
   "nbconvert_exporter": "python",
   "pygments_lexer": "ipython3",
   "version": "3.10.13"
  },
  "orig_nbformat": 4
 },
 "nbformat": 4,
 "nbformat_minor": 2
}
